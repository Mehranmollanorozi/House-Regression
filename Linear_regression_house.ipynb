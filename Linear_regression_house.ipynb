{
  "nbformat": 4,
  "nbformat_minor": 0,
  "metadata": {
    "colab": {
      "provenance": [],
      "authorship_tag": "ABX9TyNfZHeF1Q3MZxsZVjlSOUkX",
      "include_colab_link": true
    },
    "kernelspec": {
      "name": "python3",
      "display_name": "Python 3"
    },
    "language_info": {
      "name": "python"
    }
  },
  "cells": [
    {
      "cell_type": "markdown",
      "metadata": {
        "id": "view-in-github",
        "colab_type": "text"
      },
      "source": [
        "<a href=\"https://colab.research.google.com/github/Mehranmollanorozi/House-Regression/blob/main/Linear_regression_house.ipynb\" target=\"_parent\"><img src=\"https://colab.research.google.com/assets/colab-badge.svg\" alt=\"Open In Colab\"/></a>"
      ]
    },
    {
      "cell_type": "code",
      "execution_count": null,
      "metadata": {
        "colab": {
          "base_uri": "https://localhost:8080/",
          "height": 73
        },
        "id": "OmM4IUykjsZ3",
        "outputId": "1ee011ce-e3cd-4bdf-df16-8bea88c9d65c"
      },
      "outputs": [
        {
          "output_type": "display_data",
          "data": {
            "text/plain": [
              "<IPython.core.display.HTML object>"
            ],
            "text/html": [
              "\n",
              "     <input type=\"file\" id=\"files-67ef176b-0832-4fa7-b0a3-a46afb0a47b4\" name=\"files[]\" multiple disabled\n",
              "        style=\"border:none\" />\n",
              "     <output id=\"result-67ef176b-0832-4fa7-b0a3-a46afb0a47b4\">\n",
              "      Upload widget is only available when the cell has been executed in the\n",
              "      current browser session. Please rerun this cell to enable.\n",
              "      </output>\n",
              "      <script>// Copyright 2017 Google LLC\n",
              "//\n",
              "// Licensed under the Apache License, Version 2.0 (the \"License\");\n",
              "// you may not use this file except in compliance with the License.\n",
              "// You may obtain a copy of the License at\n",
              "//\n",
              "//      http://www.apache.org/licenses/LICENSE-2.0\n",
              "//\n",
              "// Unless required by applicable law or agreed to in writing, software\n",
              "// distributed under the License is distributed on an \"AS IS\" BASIS,\n",
              "// WITHOUT WARRANTIES OR CONDITIONS OF ANY KIND, either express or implied.\n",
              "// See the License for the specific language governing permissions and\n",
              "// limitations under the License.\n",
              "\n",
              "/**\n",
              " * @fileoverview Helpers for google.colab Python module.\n",
              " */\n",
              "(function(scope) {\n",
              "function span(text, styleAttributes = {}) {\n",
              "  const element = document.createElement('span');\n",
              "  element.textContent = text;\n",
              "  for (const key of Object.keys(styleAttributes)) {\n",
              "    element.style[key] = styleAttributes[key];\n",
              "  }\n",
              "  return element;\n",
              "}\n",
              "\n",
              "// Max number of bytes which will be uploaded at a time.\n",
              "const MAX_PAYLOAD_SIZE = 100 * 1024;\n",
              "\n",
              "function _uploadFiles(inputId, outputId) {\n",
              "  const steps = uploadFilesStep(inputId, outputId);\n",
              "  const outputElement = document.getElementById(outputId);\n",
              "  // Cache steps on the outputElement to make it available for the next call\n",
              "  // to uploadFilesContinue from Python.\n",
              "  outputElement.steps = steps;\n",
              "\n",
              "  return _uploadFilesContinue(outputId);\n",
              "}\n",
              "\n",
              "// This is roughly an async generator (not supported in the browser yet),\n",
              "// where there are multiple asynchronous steps and the Python side is going\n",
              "// to poll for completion of each step.\n",
              "// This uses a Promise to block the python side on completion of each step,\n",
              "// then passes the result of the previous step as the input to the next step.\n",
              "function _uploadFilesContinue(outputId) {\n",
              "  const outputElement = document.getElementById(outputId);\n",
              "  const steps = outputElement.steps;\n",
              "\n",
              "  const next = steps.next(outputElement.lastPromiseValue);\n",
              "  return Promise.resolve(next.value.promise).then((value) => {\n",
              "    // Cache the last promise value to make it available to the next\n",
              "    // step of the generator.\n",
              "    outputElement.lastPromiseValue = value;\n",
              "    return next.value.response;\n",
              "  });\n",
              "}\n",
              "\n",
              "/**\n",
              " * Generator function which is called between each async step of the upload\n",
              " * process.\n",
              " * @param {string} inputId Element ID of the input file picker element.\n",
              " * @param {string} outputId Element ID of the output display.\n",
              " * @return {!Iterable<!Object>} Iterable of next steps.\n",
              " */\n",
              "function* uploadFilesStep(inputId, outputId) {\n",
              "  const inputElement = document.getElementById(inputId);\n",
              "  inputElement.disabled = false;\n",
              "\n",
              "  const outputElement = document.getElementById(outputId);\n",
              "  outputElement.innerHTML = '';\n",
              "\n",
              "  const pickedPromise = new Promise((resolve) => {\n",
              "    inputElement.addEventListener('change', (e) => {\n",
              "      resolve(e.target.files);\n",
              "    });\n",
              "  });\n",
              "\n",
              "  const cancel = document.createElement('button');\n",
              "  inputElement.parentElement.appendChild(cancel);\n",
              "  cancel.textContent = 'Cancel upload';\n",
              "  const cancelPromise = new Promise((resolve) => {\n",
              "    cancel.onclick = () => {\n",
              "      resolve(null);\n",
              "    };\n",
              "  });\n",
              "\n",
              "  // Wait for the user to pick the files.\n",
              "  const files = yield {\n",
              "    promise: Promise.race([pickedPromise, cancelPromise]),\n",
              "    response: {\n",
              "      action: 'starting',\n",
              "    }\n",
              "  };\n",
              "\n",
              "  cancel.remove();\n",
              "\n",
              "  // Disable the input element since further picks are not allowed.\n",
              "  inputElement.disabled = true;\n",
              "\n",
              "  if (!files) {\n",
              "    return {\n",
              "      response: {\n",
              "        action: 'complete',\n",
              "      }\n",
              "    };\n",
              "  }\n",
              "\n",
              "  for (const file of files) {\n",
              "    const li = document.createElement('li');\n",
              "    li.append(span(file.name, {fontWeight: 'bold'}));\n",
              "    li.append(span(\n",
              "        `(${file.type || 'n/a'}) - ${file.size} bytes, ` +\n",
              "        `last modified: ${\n",
              "            file.lastModifiedDate ? file.lastModifiedDate.toLocaleDateString() :\n",
              "                                    'n/a'} - `));\n",
              "    const percent = span('0% done');\n",
              "    li.appendChild(percent);\n",
              "\n",
              "    outputElement.appendChild(li);\n",
              "\n",
              "    const fileDataPromise = new Promise((resolve) => {\n",
              "      const reader = new FileReader();\n",
              "      reader.onload = (e) => {\n",
              "        resolve(e.target.result);\n",
              "      };\n",
              "      reader.readAsArrayBuffer(file);\n",
              "    });\n",
              "    // Wait for the data to be ready.\n",
              "    let fileData = yield {\n",
              "      promise: fileDataPromise,\n",
              "      response: {\n",
              "        action: 'continue',\n",
              "      }\n",
              "    };\n",
              "\n",
              "    // Use a chunked sending to avoid message size limits. See b/62115660.\n",
              "    let position = 0;\n",
              "    do {\n",
              "      const length = Math.min(fileData.byteLength - position, MAX_PAYLOAD_SIZE);\n",
              "      const chunk = new Uint8Array(fileData, position, length);\n",
              "      position += length;\n",
              "\n",
              "      const base64 = btoa(String.fromCharCode.apply(null, chunk));\n",
              "      yield {\n",
              "        response: {\n",
              "          action: 'append',\n",
              "          file: file.name,\n",
              "          data: base64,\n",
              "        },\n",
              "      };\n",
              "\n",
              "      let percentDone = fileData.byteLength === 0 ?\n",
              "          100 :\n",
              "          Math.round((position / fileData.byteLength) * 100);\n",
              "      percent.textContent = `${percentDone}% done`;\n",
              "\n",
              "    } while (position < fileData.byteLength);\n",
              "  }\n",
              "\n",
              "  // All done.\n",
              "  yield {\n",
              "    response: {\n",
              "      action: 'complete',\n",
              "    }\n",
              "  };\n",
              "}\n",
              "\n",
              "scope.google = scope.google || {};\n",
              "scope.google.colab = scope.google.colab || {};\n",
              "scope.google.colab._files = {\n",
              "  _uploadFiles,\n",
              "  _uploadFilesContinue,\n",
              "};\n",
              "})(self);\n",
              "</script> "
            ]
          },
          "metadata": {}
        },
        {
          "output_type": "stream",
          "name": "stdout",
          "text": [
            "Saving Housing.csv to Housing (1).csv\n"
          ]
        }
      ],
      "source": [
        "import pandas as pd\n",
        "import numpy as np\n",
        "import matplotlib.pyplot as plt\n",
        "from sklearn.model_selection import train_test_split\n",
        "from sklearn.linear_model import LinearRegression\n",
        "from google.colab import files\n",
        "uploaded = files.upload()"
      ]
    },
    {
      "cell_type": "code",
      "source": [
        "data = pd.read_csv('Housing.csv')\n",
        "X = data.iloc[:, 1].values.reshape(-1, 1)\n",
        "y = data.iloc[:, 0].values"
      ],
      "metadata": {
        "id": "4FTJJVCgk42E"
      },
      "execution_count": null,
      "outputs": []
    },
    {
      "cell_type": "code",
      "source": [
        "print(\"x_train:\", x_train)\n",
        "print(\"y_train:\", y_train)"
      ],
      "metadata": {
        "colab": {
          "base_uri": "https://localhost:8080/"
        },
        "collapsed": true,
        "id": "RtZfJflAl2VF",
        "outputId": "f795c16e-f8f0-4322-8492-37274b478fa7"
      },
      "execution_count": null,
      "outputs": [
        {
          "output_type": "stream",
          "name": "stdout",
          "text": [
            "x_train: [ 7420  8960  9960  7500  7420  7500  8580 16200  8100  5750 13200  6000\n",
            "  6550  3500  7800  6000  6600  8500  4600  6420  4320  7155  8050  4560\n",
            "  8800  6540  6000  8875  7950  5500  7475  7000  4880  5960  6840  7000\n",
            "  7482  9000  6000  6000  6550  6360  6480  6000  6000  6000  6000  6600\n",
            "  4300  7440  7440  6325  6000  5150  6000  6000 11440  9000  7680  6000\n",
            "  6000  8880  6240  6360 11175  8880 13200  7700  6000 12090  4000  6000\n",
            "  5020  6600  4040  4260  6420  6500  5700  6000  6000  4000 10500  6000\n",
            "  3760  8250  6670  3960  7410  8580  5000  6750  4800  7200  6000  4100\n",
            "  9000  6400  6600  6000  6600  5500  5500  6350  5500  4500  5450  6420\n",
            "  3240  6615  6600  8372  4300  9620  6800  8000  6900  3700  6420  7020\n",
            "  6540  7231  6254  7320  6525 15600  7160  6500  5500 11460  4800  5828\n",
            "  5200  4800  7000  6000  5400  4640  5000  6360  5800  6660 10500  4800\n",
            "  4700  5000 10500  5500  6360  6600  5136  4400  5400  3300  3650  6100\n",
            "  6900  2817  7980  3150  6210  6100  6600  6825  6710  6450  7800  4600\n",
            "  4260  6540  5500 10269  8400  5300  3800  9800  8520  6050  7085  3180\n",
            "  4500  7200  3410  7980  3000  3000 11410  6100  5720  3540  7600 10700\n",
            "  6600  4800  8150  4410  7686  2800  5948  4200  4520  4095  4120  5400\n",
            "  4770  6300  5800  3000  2970  6720  4646 12900  3420  4995  4350  4160\n",
            "  6040  6862  4815  7000  8100  3420  9166  6321 10240  6440  5170  6000\n",
            "  3630  9667  5400  4320  3745  4160  3880  5680  2870  5010  4510  4000\n",
            "  3840  3760  3640  2550  5320  5360  3520  8400  4100  4990  3510  3450\n",
            "  9860  3520  4510  5885  4000  8250  4040  6360  3162  3510  3750  3968\n",
            "  4900  2880  4880  4920  4950  3900  4500  1905  4075  3500  6450  4032\n",
            "  4400 10360  3400  6360  6360  4500  2175  4360  7770  6650  2787  5500\n",
            "  5040  5850  2610  2953  2747  4410  4000  2325  4600  3640  5800  7000\n",
            "  4079  3520  2145  4500  8250  3450  4840  4080  4046  4632  5985  6060\n",
            "  3600  3680  4040  5600  5900  4992  4340  3000  4320  3630  3460  5400\n",
            "  4500  3460  4100  6480  4500  3960  4050  7260  5500  3000  3290  3816\n",
            "  8080  2145  3780  3180  5300  3180  7152  4080  3850  2015  2176  3350\n",
            "  3150  4820  3420  3600  5830  2856  8400  8250  2520  6930  3480  3600\n",
            "  4040  6020  4050  3584  3120  5450  3630  3630  5640  3600  4280  3570\n",
            "  3180  3000  3520  5960  4130  2850  2275  3520  4500  4000  3150  4500\n",
            "  4500  3640  3850  4240  3650  4600  2135  3036  3990  7424  3480  3600\n",
            "  3640  5900  3120  7350  3512  9500  5880 12944  4900  3060  5320  2145\n",
            "  4000  3185  3850  2145  2610  1950  4040  4785  3450  3640  3500  4960\n",
            "  4120  4750  3720  3750  3100  3185  2700  2145  4040  4775  2500  3180\n",
            "  6060  3480  3792  4040  2145  5880  4500  3930  3640  4370  2684  4320\n",
            "  3120  3450  3986  3500  4095  1650  3450  6750  9000  3069  4500  5495\n",
            "  2398  3000  3850  3500  8100  4960  2160  3090  4500  3800  3090  3240\n",
            "  2835  4600  5076  3750  3630  8050  4352  3000  5850  4960  3600  3660\n",
            "  3480  2700  3150  6615  3040  3630  6000  5400  5200  3300  4350  2640\n",
            "  2650  3960  6800  4000  4000  3934  2000  3630  2800  2430  3480  4000\n",
            "  3185  4000  2910  3600  4400  3600  2880  3180  3000  4400  3000  3210\n",
            "  3240  3000  3500  4840  7700  3635  2475  2787  3264  3640  3180  1836\n",
            "  3970  3970  1950  5300  3000  2400  3000  3360  3420  1700  3649  2990\n",
            "  3000  2400  3620  2910  3850]\n",
            "y_train: [13300000 12250000 12250000 12215000 11410000 10850000 10150000 10150000\n",
            "  9870000  9800000  9800000  9681000  9310000  9240000  9240000  9100000\n",
            "  9100000  8960000  8890000  8855000  8750000  8680000  8645000  8645000\n",
            "  8575000  8540000  8463000  8400000  8400000  8400000  8400000  8400000\n",
            "  8295000  8190000  8120000  8080940  8043000  7980000  7962500  7910000\n",
            "  7875000  7840000  7700000  7700000  7560000  7560000  7525000  7490000\n",
            "  7455000  7420000  7420000  7420000  7350000  7350000  7350000  7350000\n",
            "  7343000  7245000  7210000  7210000  7140000  7070000  7070000  7035000\n",
            "  7000000  6930000  6930000  6895000  6860000  6790000  6790000  6755000\n",
            "  6720000  6685000  6650000  6650000  6650000  6650000  6650000  6650000\n",
            "  6629000  6615000  6615000  6580000  6510000  6510000  6510000  6475000\n",
            "  6475000  6440000  6440000  6419000  6405000  6300000  6300000  6300000\n",
            "  6300000  6300000  6293000  6265000  6230000  6230000  6195000  6195000\n",
            "  6195000  6160000  6160000  6125000  6107500  6090000  6090000  6090000\n",
            "  6083000  6083000  6020000  6020000  6020000  5950000  5950000  5950000\n",
            "  5950000  5950000  5950000  5950000  5950000  5943000  5880000  5880000\n",
            "  5873000  5873000  5866000  5810000  5810000  5810000  5803000  5775000\n",
            "  5740000  5740000  5740000  5740000  5740000  5652500  5600000  5600000\n",
            "  5600000  5600000  5600000  5600000  5600000  5600000  5600000  5565000\n",
            "  5565000  5530000  5530000  5530000  5523000  5495000  5495000  5460000\n",
            "  5460000  5460000  5460000  5425000  5390000  5383000  5320000  5285000\n",
            "  5250000  5250000  5250000  5250000  5250000  5250000  5250000  5250000\n",
            "  5250000  5243000  5229000  5215000  5215000  5215000  5145000  5145000\n",
            "  5110000  5110000  5110000  5110000  5075000  5040000  5040000  5040000\n",
            "  5040000  5033000  5005000  4970000  4970000  4956000  4935000  4907000\n",
            "  4900000  4900000  4900000  4900000  4900000  4900000  4900000  4900000\n",
            "  4900000  4900000  4900000  4900000  4893000  4893000  4865000  4830000\n",
            "  4830000  4830000  4830000  4795000  4795000  4767000  4760000  4760000\n",
            "  4760000  4753000  4690000  4690000  4690000  4690000  4690000  4690000\n",
            "  4655000  4620000  4620000  4620000  4620000  4620000  4613000  4585000\n",
            "  4585000  4550000  4550000  4550000  4550000  4550000  4550000  4550000\n",
            "  4543000  4543000  4515000  4515000  4515000  4515000  4480000  4480000\n",
            "  4480000  4480000  4480000  4473000  4473000  4473000  4445000  4410000\n",
            "  4410000  4403000  4403000  4403000  4382000  4375000  4340000  4340000\n",
            "  4340000  4340000  4340000  4319000  4305000  4305000  4277000  4270000\n",
            "  4270000  4270000  4270000  4270000  4270000  4235000  4235000  4200000\n",
            "  4200000  4200000  4200000  4200000  4200000  4200000  4200000  4200000\n",
            "  4200000  4200000  4200000  4200000  4200000  4200000  4200000  4200000\n",
            "  4193000  4193000  4165000  4165000  4165000  4130000  4130000  4123000\n",
            "  4098500  4095000  4095000  4095000  4060000  4060000  4060000  4060000\n",
            "  4060000  4025000  4025000  4025000  4007500  4007500  3990000  3990000\n",
            "  3990000  3990000  3990000  3920000  3920000  3920000  3920000  3920000\n",
            "  3920000  3920000  3885000  3885000  3850000  3850000  3850000  3850000\n",
            "  3850000  3850000  3850000  3836000  3815000  3780000  3780000  3780000\n",
            "  3780000  3780000  3780000  3773000  3773000  3773000  3745000  3710000\n",
            "  3710000  3710000  3710000  3710000  3703000  3703000  3675000  3675000\n",
            "  3675000  3675000  3640000  3640000  3640000  3640000  3640000  3640000\n",
            "  3640000  3640000  3640000  3633000  3605000  3605000  3570000  3570000\n",
            "  3570000  3570000  3535000  3500000  3500000  3500000  3500000  3500000\n",
            "  3500000  3500000  3500000  3500000  3500000  3500000  3500000  3500000\n",
            "  3500000  3500000  3500000  3500000  3493000  3465000  3465000  3465000\n",
            "  3430000  3430000  3430000  3430000  3430000  3430000  3423000  3395000\n",
            "  3395000  3395000  3360000  3360000  3360000  3360000  3360000  3360000\n",
            "  3360000  3360000  3353000  3332000  3325000  3325000  3290000  3290000\n",
            "  3290000  3290000  3290000  3290000  3290000  3290000  3255000  3255000\n",
            "  3234000  3220000  3220000  3220000  3220000  3150000  3150000  3150000\n",
            "  3150000  3150000  3150000  3150000  3150000  3150000  3143000  3129000\n",
            "  3118850  3115000  3115000  3115000  3087000  3080000  3080000  3080000\n",
            "  3080000  3045000  3010000  3010000  3010000  3010000  3010000  3010000\n",
            "  3010000  3003000  2975000  2961000  2940000  2940000  2940000  2940000\n",
            "  2940000  2940000  2940000  2940000  2870000  2870000  2870000  2870000\n",
            "  2852500  2835000  2835000  2835000  2800000  2800000  2730000  2730000\n",
            "  2695000  2660000  2660000  2660000  2660000  2660000  2660000  2660000\n",
            "  2653000  2653000  2604000  2590000  2590000  2590000  2520000  2520000\n",
            "  2520000  2485000  2485000  2450000  2450000  2450000  2450000  2450000\n",
            "  2450000  2408000  2380000  2380000  2380000  2345000  2310000  2275000\n",
            "  2275000  2275000  2240000  2233000  2135000  2100000  2100000  2100000\n",
            "  1960000  1890000  1890000  1855000  1820000  1767150  1750000  1750000\n",
            "  1750000]\n"
          ]
        }
      ]
    },
    {
      "cell_type": "code",
      "source": [
        "X_train, X_test, y_train, y_test = train_test_split(X, y, test_size=0.2, random_state=42)"
      ],
      "metadata": {
        "id": "oon6Xa5oor-5"
      },
      "execution_count": null,
      "outputs": []
    },
    {
      "cell_type": "code",
      "source": [
        "model = LinearRegression()\n",
        "model.fit(X_train, y_train)"
      ],
      "metadata": {
        "colab": {
          "base_uri": "https://localhost:8080/",
          "height": 52
        },
        "id": "DzSFmtZtouvH",
        "outputId": "94124cad-4ab9-4d54-954e-44bcaca939e6"
      },
      "execution_count": null,
      "outputs": [
        {
          "output_type": "execute_result",
          "data": {
            "text/plain": [
              "LinearRegression()"
            ],
            "text/html": [
              "<style>#sk-container-id-1 {color: black;}#sk-container-id-1 pre{padding: 0;}#sk-container-id-1 div.sk-toggleable {background-color: white;}#sk-container-id-1 label.sk-toggleable__label {cursor: pointer;display: block;width: 100%;margin-bottom: 0;padding: 0.3em;box-sizing: border-box;text-align: center;}#sk-container-id-1 label.sk-toggleable__label-arrow:before {content: \"▸\";float: left;margin-right: 0.25em;color: #696969;}#sk-container-id-1 label.sk-toggleable__label-arrow:hover:before {color: black;}#sk-container-id-1 div.sk-estimator:hover label.sk-toggleable__label-arrow:before {color: black;}#sk-container-id-1 div.sk-toggleable__content {max-height: 0;max-width: 0;overflow: hidden;text-align: left;background-color: #f0f8ff;}#sk-container-id-1 div.sk-toggleable__content pre {margin: 0.2em;color: black;border-radius: 0.25em;background-color: #f0f8ff;}#sk-container-id-1 input.sk-toggleable__control:checked~div.sk-toggleable__content {max-height: 200px;max-width: 100%;overflow: auto;}#sk-container-id-1 input.sk-toggleable__control:checked~label.sk-toggleable__label-arrow:before {content: \"▾\";}#sk-container-id-1 div.sk-estimator input.sk-toggleable__control:checked~label.sk-toggleable__label {background-color: #d4ebff;}#sk-container-id-1 div.sk-label input.sk-toggleable__control:checked~label.sk-toggleable__label {background-color: #d4ebff;}#sk-container-id-1 input.sk-hidden--visually {border: 0;clip: rect(1px 1px 1px 1px);clip: rect(1px, 1px, 1px, 1px);height: 1px;margin: -1px;overflow: hidden;padding: 0;position: absolute;width: 1px;}#sk-container-id-1 div.sk-estimator {font-family: monospace;background-color: #f0f8ff;border: 1px dotted black;border-radius: 0.25em;box-sizing: border-box;margin-bottom: 0.5em;}#sk-container-id-1 div.sk-estimator:hover {background-color: #d4ebff;}#sk-container-id-1 div.sk-parallel-item::after {content: \"\";width: 100%;border-bottom: 1px solid gray;flex-grow: 1;}#sk-container-id-1 div.sk-label:hover label.sk-toggleable__label {background-color: #d4ebff;}#sk-container-id-1 div.sk-serial::before {content: \"\";position: absolute;border-left: 1px solid gray;box-sizing: border-box;top: 0;bottom: 0;left: 50%;z-index: 0;}#sk-container-id-1 div.sk-serial {display: flex;flex-direction: column;align-items: center;background-color: white;padding-right: 0.2em;padding-left: 0.2em;position: relative;}#sk-container-id-1 div.sk-item {position: relative;z-index: 1;}#sk-container-id-1 div.sk-parallel {display: flex;align-items: stretch;justify-content: center;background-color: white;position: relative;}#sk-container-id-1 div.sk-item::before, #sk-container-id-1 div.sk-parallel-item::before {content: \"\";position: absolute;border-left: 1px solid gray;box-sizing: border-box;top: 0;bottom: 0;left: 50%;z-index: -1;}#sk-container-id-1 div.sk-parallel-item {display: flex;flex-direction: column;z-index: 1;position: relative;background-color: white;}#sk-container-id-1 div.sk-parallel-item:first-child::after {align-self: flex-end;width: 50%;}#sk-container-id-1 div.sk-parallel-item:last-child::after {align-self: flex-start;width: 50%;}#sk-container-id-1 div.sk-parallel-item:only-child::after {width: 0;}#sk-container-id-1 div.sk-dashed-wrapped {border: 1px dashed gray;margin: 0 0.4em 0.5em 0.4em;box-sizing: border-box;padding-bottom: 0.4em;background-color: white;}#sk-container-id-1 div.sk-label label {font-family: monospace;font-weight: bold;display: inline-block;line-height: 1.2em;}#sk-container-id-1 div.sk-label-container {text-align: center;}#sk-container-id-1 div.sk-container {/* jupyter's `normalize.less` sets `[hidden] { display: none; }` but bootstrap.min.css set `[hidden] { display: none !important; }` so we also need the `!important` here to be able to override the default hidden behavior on the sphinx rendered scikit-learn.org. See: https://github.com/scikit-learn/scikit-learn/issues/21755 */display: inline-block !important;position: relative;}#sk-container-id-1 div.sk-text-repr-fallback {display: none;}</style><div id=\"sk-container-id-1\" class=\"sk-top-container\"><div class=\"sk-text-repr-fallback\"><pre>LinearRegression()</pre><b>In a Jupyter environment, please rerun this cell to show the HTML representation or trust the notebook. <br />On GitHub, the HTML representation is unable to render, please try loading this page with nbviewer.org.</b></div><div class=\"sk-container\" hidden><div class=\"sk-item\"><div class=\"sk-estimator sk-toggleable\"><input class=\"sk-toggleable__control sk-hidden--visually\" id=\"sk-estimator-id-1\" type=\"checkbox\" checked><label for=\"sk-estimator-id-1\" class=\"sk-toggleable__label sk-toggleable__label-arrow\">LinearRegression</label><div class=\"sk-toggleable__content\"><pre>LinearRegression()</pre></div></div></div></div></div>"
            ]
          },
          "metadata": {},
          "execution_count": 19
        }
      ]
    },
    {
      "cell_type": "code",
      "source": [
        "y_pred = model.predict(X_test)"
      ],
      "metadata": {
        "id": "-hgTjYdlo2Zn"
      },
      "execution_count": null,
      "outputs": []
    },
    {
      "cell_type": "code",
      "source": [
        "plt.scatter(X_test, y_test, color='blue', label='Actual Prices')\n",
        "plt.scatter(X_test, y_pred, color='red', label='Predicted Prices')\n",
        "plt.plot(X_test, y_pred, color='green', linewidth=2)\n",
        "plt.xlabel('Size of House')\n",
        "plt.ylabel('Price of House')\n",
        "plt.title('House Price Prediction')\n",
        "plt.legend()\n",
        "plt.show()"
      ],
      "metadata": {
        "colab": {
          "base_uri": "https://localhost:8080/",
          "height": 472
        },
        "id": "ESgJvhVeo4Ah",
        "outputId": "5e958d3f-bc7d-4041-e550-cc1764d0bb1d"
      },
      "execution_count": null,
      "outputs": [
        {
          "output_type": "display_data",
          "data": {
            "text/plain": [
              "<Figure size 640x480 with 1 Axes>"
            ],
            "image/png": "[encoded data removed]"
          },
          "metadata": {}
        }
      ]
    },
    {
      "cell_type": "code",
      "source": [
        "new_size = float(input(\"Enter the size of the house (in square feet): \"))\n",
        "predicted_price = model.predict(np.array([[new_size]]))\n",
        "\n",
        "print(f'Predicted price for a house of size {new_size} square feet is: ${predicted_price[0]:.2f}')"
      ],
      "metadata": {
        "colab": {
          "base_uri": "https://localhost:8080/"
        },
        "id": "JJrMTK88pDyE",
        "outputId": "77136bb2-9808-412a-90f2-4bb36c316ce3"
      },
      "execution_count": null,
      "outputs": [
        {
          "output_type": "stream",
          "name": "stdout",
          "text": [
            "Enter the size of the house (in square feet): 11000\n",
            "Predicted price for a house of size 11000.0 square feet is: $7195282.53\n"
          ]
        }
      ]
    }
  ]
}